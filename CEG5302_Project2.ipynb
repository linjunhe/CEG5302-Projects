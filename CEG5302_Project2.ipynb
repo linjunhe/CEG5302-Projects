{
 "cells": [
  {
   "cell_type": "markdown",
   "id": "49a351b7",
   "metadata": {},
   "source": [
    "# Project 2: Multi-Objective Optimization"
   ]
  },
  {
   "cell_type": "markdown",
   "id": "765b1808",
   "metadata": {},
   "source": [
    "**Deadline**: April 20, 2023 at 10 p.m. Late submissions will result in a 10-point deduction for each hour they are delayed.\n",
    "\n",
    "**Guidelines for Group Project Submission**: \n",
    "\n",
    "1. This project requires a group of two members to work on it. Each group needs to submit **only one Jupyter Notebook** file for grading. If both members submit separate files, only the latest submission will be graded.\n",
    "\n",
    "2. Your Jupyter Notebook file must clearly displays both the code (in Python 3) and its corresponding results. Rename the file to `Group ID.ipynb` before submission.\n",
    "\n",
    "3. Ensure your Jupyter Notebook file is executable by including all necessary code and cells to obtain the resulting image **directly** from running the notebook. Do not insert image files, and note that we do not accept files with the .py extension.\n",
    "\n",
    "4. Before submitting, it is strongly recommended that you double-check your code and run the notebook from start to finish to ensure that it executes correctly. **Please note that any code that cannot be executed or produces errors will result in point deductions.**"
   ]
  },
  {
   "cell_type": "code",
   "execution_count": 1,
   "id": "1f438d99",
   "metadata": {
    "ExecuteTime": {
     "end_time": "2023-03-08T05:54:53.424951Z",
     "start_time": "2023-03-08T05:54:53.363055Z"
    }
   },
   "outputs": [],
   "source": [
    "import numpy as np"
   ]
  },
  {
   "cell_type": "markdown",
   "id": "e986d740",
   "metadata": {},
   "source": [
    "## Part 1. Continuous Multi-Objective Optimization\n",
    "In this part, we have implemented the two-objective ZDT3 problem [1] and the vehicle crashworthiness design problem [2], and provided examples on how to use them. **Your task is to implement NSGA-II and use it to solve these two problems**.\n",
    "\n",
    "[1] Zitzler, E., Deb, K., & Thiele, L. (2000). Comparison of multiobjective evolutionary algorithms: Empirical results. Evolutionary computation, 8(2), 173-195.\n",
    "\n",
    "[2] Liao, X., Li, Q., Yang, X., Zhang, W., & Li, W. (2008). Multiobjective optimization for crash safety design of vehicles using stepwise regression model. Structural and multidisciplinary optimization, 35, 561-569."
   ]
  },
  {
   "cell_type": "markdown",
   "id": "4a654658",
   "metadata": {},
   "source": [
    "### Introduction to a Two-Objective Test Problem: ZDT3 \n",
    "The ZDT test suite [1] is a well-known set of benchmark problems in multi-objective optimization. It was introduced by Zitzler, Deb, and Thiele in 2000 to evaluate the performance of multi-objective optimization algorithms. ZDT3 is one of the test problems in the ZDT test suite.\n",
    "\n",
    "- Number of objectives: 2\n",
    "- Number of decision variables: 30\n",
    "\n",
    "$$\n",
    "\\begin{aligned}\n",
    "&\\mathrm{minimize} \\left\\{\n",
    "\\begin{array}{l}\n",
    "f_1(\\mathbf{x})=x_1 \\\\\n",
    "f_2(\\mathbf{x})=g h\n",
    "\\end{array}\\:,\\right. \\\\\n",
    "&\\mathrm{where} \\enspace g(\\mathbf{x})=1+\\frac{9}{n-1} \\sum_{i=2}^n x_i, \\\\\n",
    "& \\qquad \\enspace h(\\mathbf{x})=1-\\sqrt{f_1 / g}-\\left(f_1 / g\\right) \\sin \\left(10 \\pi f_1\\right),\\\\\n",
    "& \\qquad \\enspace 0 \\leq x_i \\leq 1, \\enspace i=1,\\ldots,n,.\n",
    "\\end{aligned}\n",
    "$$\n",
    "\n",
    "[1] E. Zitzler, K. Deb, and L. Thiele, Comparison of multiobjective evolutionary algorithms: Empirical results, Evolutionary computation, 2000, 8(2): 173-195."
   ]
  },
  {
   "cell_type": "code",
   "execution_count": 2,
   "id": "84e6b234",
   "metadata": {
    "ExecuteTime": {
     "end_time": "2023-03-08T05:55:02.943468Z",
     "start_time": "2023-03-08T05:55:02.926895Z"
    }
   },
   "outputs": [],
   "source": [
    "class ZDT3():\n",
    "\n",
    "    def __init__(self):\n",
    "        self.name = 'ZDT3'\n",
    "        self.n_obj = 2  # number of objectives\n",
    "        self.n_var = 30  # number of decision variables\n",
    "\n",
    "        self.lower = np.zeros(self.n_var)  # lower bound of decision variables\n",
    "        self.upper = np.ones(self.n_var)  # upper bound of decision variables\n",
    "\n",
    "    def evaluate(self, x):\n",
    "        pop_size = len(x)\n",
    "        f = np.zeros((pop_size, self.n_obj))\n",
    "        f[:, 0] = x[:, 0]\n",
    "        g = 1.0 + 9.0 * np.sum(x[:, 1:], axis=1) / (self.n_var - 1)\n",
    "        h = 1 - np.power(\n",
    "            f[:, 0] * 1.0 / g,\n",
    "            0.5) - (f[:, 0] * 1.0 / g) * np.sin(10 * np.pi * f[:, 0])\n",
    "        f[:, 1] = g * h\n",
    "\n",
    "        return f"
   ]
  },
  {
   "cell_type": "code",
   "execution_count": 3,
   "id": "c3f30865",
   "metadata": {
    "ExecuteTime": {
     "end_time": "2023-03-08T05:55:03.322919Z",
     "start_time": "2023-03-08T05:55:03.310741Z"
    },
    "scrolled": true
   },
   "outputs": [
    {
     "name": "stdout",
     "output_type": "stream",
     "text": [
      "Problem = ZDT3\n",
      "Number of objectives = 2\n",
      "Number of variables = 30\n",
      "Lower bounds = [0. 0. 0. 0. 0. 0. 0. 0. 0. 0. 0. 0. 0. 0. 0. 0. 0. 0. 0. 0. 0. 0. 0. 0.\n",
      " 0. 0. 0. 0. 0. 0.]\n",
      "Upper bounds = [1. 1. 1. 1. 1. 1. 1. 1. 1. 1. 1. 1. 1. 1. 1. 1. 1. 1. 1. 1. 1. 1. 1. 1.\n",
      " 1. 1. 1. 1. 1. 1.]\n"
     ]
    }
   ],
   "source": [
    "# Create an instance of ZDT3\n",
    "prob = ZDT3()\n",
    "print(f\"Problem = {prob.name}\")\n",
    "print(f\"Number of objectives = {prob.n_obj}\")\n",
    "print(f\"Number of variables = {prob.n_var}\")\n",
    "print(f\"Lower bounds = {prob.lower}\")\n",
    "print(f\"Upper bounds = {prob.upper}\")"
   ]
  },
  {
   "cell_type": "code",
   "execution_count": 4,
   "id": "5aed2de4",
   "metadata": {
    "ExecuteTime": {
     "end_time": "2023-03-08T05:55:05.069467Z",
     "start_time": "2023-03-08T05:55:05.054859Z"
    }
   },
   "outputs": [
    {
     "name": "stdout",
     "output_type": "stream",
     "text": [
      "x =  [[0.31141712 0.81503742 0.00532139 0.73109623 0.94620056 0.2861261\n",
      "  0.78803891 0.54949553 0.01346731 0.05717344 0.14792234 0.05964575\n",
      "  0.47402093 0.18313183 0.49572914 0.60575706 0.48798562 0.53652033\n",
      "  0.51521735 0.00328101 0.12992567 0.10563822 0.17067149 0.82570427\n",
      "  0.29075391 0.23252071 0.48641935 0.12537658 0.06624164 0.18656558]]\n",
      "f(x) = [[0.31141712 3.16830933]]\n"
     ]
    }
   ],
   "source": [
    "# Initialize a population with 1 solution and evaluate it\n",
    "pop_size = 1\n",
    "x = prob.lower + (prob.upper - prob.lower) * np.random.rand(\n",
    "    pop_size, prob.n_var)\n",
    "print(\"x = \", x)\n",
    "\n",
    "f = prob.evaluate(x)\n",
    "print(f\"f(x) = {f}\")"
   ]
  },
  {
   "cell_type": "code",
   "execution_count": 5,
   "id": "45756e0b",
   "metadata": {
    "ExecuteTime": {
     "end_time": "2023-03-08T05:55:05.406500Z",
     "start_time": "2023-03-08T05:55:05.398076Z"
    }
   },
   "outputs": [
    {
     "name": "stdout",
     "output_type": "stream",
     "text": [
      "x =  [[0.0245056  0.18479065 0.13927259 0.7489362  0.63403543 0.35238676\n",
      "  0.7864116  0.2704285  0.67958033 0.00263487 0.53949462 0.06597436\n",
      "  0.11348186 0.19205301 0.95224861 0.90429063 0.54832475 0.68066782\n",
      "  0.23251236 0.03508695 0.71750809 0.18535346 0.12317138 0.25056693\n",
      "  0.66266298 0.02890787 0.83155384 0.26556704 0.05802741 0.48553468]\n",
      " [0.38824593 0.4130347  0.4812436  0.80661544 0.88164548 0.41893944\n",
      "  0.23266104 0.16719943 0.4725016  0.56797714 0.74116318 0.08267868\n",
      "  0.82888171 0.93042786 0.22382205 0.69928677 0.57489423 0.18399343\n",
      "  0.39169    0.56997558 0.42283135 0.11804973 0.35367391 0.97886076\n",
      "  0.83947023 0.85325558 0.30824822 0.28255533 0.79722251 0.08212929]]\n",
      "f(x) = [[0.0245056  4.26856709]\n",
      " [0.38824593 4.23401914]]\n"
     ]
    }
   ],
   "source": [
    "# Initialize a population with 2 solutions and evaluate them\n",
    "pop_size = 2\n",
    "x = prob.lower + (prob.upper - prob.lower) * np.random.rand(\n",
    "    pop_size, prob.n_var)\n",
    "print(\"x = \", x)\n",
    "\n",
    "f = prob.evaluate(x)\n",
    "print(f\"f(x) = {f}\")"
   ]
  },
  {
   "cell_type": "markdown",
   "id": "eee83f89",
   "metadata": {},
   "source": [
    "### TODO: Implement NSGA-II and Solve ZDT3 (30 marks)\n",
    "\n",
    "Your task is **to implement NSGA-II, use it to solve ZDT3, obtain the final population, and visualize the final population.** \n",
    "\n",
    "To help you get started, we have provided skeleton code for NSGA-II, which serves as a starting point for you to add your own implementation. Please note that you **should not modify the framework** we have given you. Additionally, we have also provided you with code to create instances of the NSGA2() and ZDT3() classes.\n",
    "\n",
    "An example of the expected output is shown in the following figure, which displays the true Pareto front of ZDT3 (represented by red lines) and the final population obtained by NSGA-II (represented by grey circles). Your final solutions should be similar to these grey circles.\n",
    "\n",
    "<img src=\"https://github.com/linjunhe/CEG5302-Projects/blob/main/NSGA2_ZDT3.png?raw=true\" alt=\"ZDT3\" width=\"40%\">\n",
    "\n",
    "It is crucial to ensure that your code runs successfully, as failing to do so may result in a zero mark for this task. If you face difficulties in implementing NSGA-II in this part, you can refer to available source codes online, such as [PlatEMO](https://github.com/BIMK/PlatEMO/blob/master/PlatEMO/Algorithms/Multi-objective%20optimization/NSGA-II/NSGAII.m) and [pymoo](https://github.com/anyoptimization/pymoo/blob/main/pymoo/algorithms/moo/nsga2.py), or seek assistance from ChatGPT."
   ]
  },
  {
   "cell_type": "code",
   "execution_count": null,
   "id": "6fbb5d89",
   "metadata": {
    "ExecuteTime": {
     "end_time": "2023-02-27T02:58:35.004292Z",
     "start_time": "2023-02-27T02:58:34.998075Z"
    },
    "scrolled": true
   },
   "outputs": [],
   "source": [
    "class NSGA2():\n",
    "    def __init__(self, pop_size=100, ):\n",
    "        self.pop_size = pop_size\n",
    "        #-----------BEGIN-----------#\n",
    "        # TODO: Include other parameters you may use to create an \n",
    "        #       instance of NSGA2(), such as crossover probability \n",
    "        #       and mutation probability  \n",
    "        #-----------END-----------#\n",
    "        \n",
    "    def initialize(self, prob):\n",
    "        x = prob.lower + (prob.upper - prob.lower) * np.random.rand(\n",
    "            self.pop_size, prob.n_var)\n",
    "        return x\n",
    "    \n",
    "    def tournament_selection(self, ):\n",
    "        #-----------BEGIN-----------#\n",
    "        # TODO: Implement tournament selection to construct a mating \n",
    "        #       pool of size `pop_size` for crossover\n",
    "        #-----------END-----------#\n",
    "        \n",
    "    def crossover(self, pc):\n",
    "        #-----------BEGIN-----------#\n",
    "        # TODO: Implement simulated binary crossover (SBX) to generate \n",
    "        #       offspring of size `pop_size`\n",
    "        #-----------END-----------#\n",
    "        \n",
    "    def mutation(self, pm):\n",
    "        #-----------BEGIN-----------#\n",
    "        # TODO: Implement polynomial mutation (PM)\n",
    "        #-----------END-----------#\n",
    "        \n",
    "        \n",
    "    def environmental_selection(self, ):\n",
    "        #-----------BEGIN-----------#\n",
    "        # TODO: Implement non-dominated sorting and crowding distance to\n",
    "        #       select `pop_size` solutions from 2 * `pop_size` solutions\n",
    "        #-----------END-----------#\n",
    "\n",
    "        \n",
    "    def run(self, prob, max_gen=500):\n",
    "        # Initialization\n",
    "        population_x = self.initialize(prob)\n",
    "        population_fx = prob.evaluate(population_x)\n",
    "                \n",
    "        # Evolve until termination condition is met\n",
    "        for i in range(1, max_gen):\n",
    "            #-----------BEGIN-----------#\n",
    "            # TODO: Select parents and generate offspring of size pop_size\n",
    "            # ?? = self.tournament_selection(?)\n",
    "            # ??? = self.crossover(??)\n",
    "            # offspring_x = self.mutation(???)\n",
    "            # offspring_fx = prob.evaluate(offspring_x)\n",
    "            #-----------END-----------#\n",
    "            \n",
    "            # Apply enviromental selection to select solutions\n",
    "            [population_x, population_fx]  = environmental_selection([offspring_x, offspring_fx])\n",
    "       \n",
    "        return population_x, population_fx"
   ]
  },
  {
   "cell_type": "code",
   "execution_count": null,
   "id": "7165b186",
   "metadata": {
    "ExecuteTime": {
     "end_time": "2023-02-27T02:58:58.433975Z",
     "start_time": "2023-02-27T02:58:58.310352Z"
    }
   },
   "outputs": [],
   "source": [
    "# Instantiate class NSGA2() and class ZDT3()\n",
    "optimizer = NSGA2(pop_size=100, ??)\n",
    "problem = ZDT3()\n",
    "\n",
    "# Use NAGA-II to solve the ZDT3 problem\n",
    "[optimum_x, optimum_fx] = optimizer.run(problem, max_gen=500)\n",
    "\n",
    "#-----------BEGIN-----------#\n",
    "# TODO: Plot the final population `optimum_fx` in the objective space\n",
    "#-----------END-----------#"
   ]
  },
  {
   "cell_type": "markdown",
   "id": "37dac70c",
   "metadata": {},
   "source": [
    "### TODO: Use NAGA-II to Solve a Real-World Problem: Crashworthiness Design of Vehicles (10 marks)\n",
    "\n",
    "The automotive industry places great importance on structural optimization for crashworthiness. In a study by Liao et al. [2], the crashworthiness design of vehicles was modeled as a multi-objective optimization problem. The problem aims to minimize three objectives: weight ($f_1$), acceleration characteristics ($f_2$), and toe-board intrusion ($f_3$) of the vehicle design. The decision variables for the problem specify the thickness of five reinforced members around the frontal structure of the vehicle, respectively. You are required to use NSGA-II to optimize the following crashworthiness design problem.\n",
    "\n",
    "- Number of objectives: 3\n",
    "- Number of decision variables: 5\n",
    "\n",
    "$$\n",
    "\\begin{aligned}\n",
    "&\\mathrm{minimize} \\left\\{\\begin{aligned}\n",
    "f_1(\\mathbf{x})= \\,& 1640.2823+2.3573285 x_1+2.3220035 x_2 \\\\\n",
    "& +4.5688768 x_3+7.7213633 x_4 +4.4559504 x_5\\\\\n",
    "f_2(\\mathbf{x})= \\,& 6.5856+1.15 x_1-1.0427 x_2+0.9738 x_3 \\\\\n",
    "& +0.8364 x_4-0.3695 x_1 x_4+0.0861 x_1 x_5 \\\\\n",
    "& +0.3628 x_2 x_4-0.1106 x_1^2-0.3437 x_3^2 \\\\\n",
    "& +0.1764 x_4^2\\\\\n",
    "f_3(\\mathbf{x})= & -0.0551+0.0181 x_1+0.1024 x_2 \\\\\n",
    "& +0.0421 x_3-0.0073 x_1 x_2+0.024 x_2 x_3 \\\\\n",
    "& -0.0118 x_2 x_4-0.0204 x_3 x_4-0.008 x_3 x_5 \\\\\n",
    "& -0.0241 x_2^2+0.0109 x_4^2\\\\\n",
    "\\end{aligned}\\right., \\\\\n",
    "& \\mathrm{where} \\enspace  1 \\leq x_i \\leq 3, \\enspace i=1,\\ldots,5.\n",
    "\\end{aligned}\n",
    "$$\n",
    "\n",
    "\n",
    "[2] Liao, X., Li, Q., Yang, X., Zhang, W., & Li, W. (2008). Multiobjective optimization for crash safety design of vehicles using stepwise regression model. Structural and multidisciplinary optimization, 35, 561-569."
   ]
  },
  {
   "cell_type": "markdown",
   "id": "9201fcd8",
   "metadata": {},
   "source": [
    "Your task is to **instantiate the NSGA2() and CrashworthinessDesign() classes, use NSGA-II to solve the problem, obtain the final population, and visualize the final population**. \n",
    "\n",
    "You can refer to the example figures below for reference. The left figure displays the Pareto front approximated by combining solutions obtained by several state-of-the-art algorithms, and the right figure displays the final population obtained by NSGA-II. Your expected solutions should be similar to the right figure.\n",
    "\n",
    "<div style=\"display: flex;\">\n",
    "    <img src=\"https://github.com/linjunhe/CEG5302-Projects/blob/main/PF_crash.png?raw=true\" alt=\"PF of crash\" style=\"width: 40%;\">\n",
    "    <img src=\"https://github.com/linjunhe/CEG5302-Projects/blob/main/NSGA2_crash.png?raw=true\" alt=\"NSGA2 on crash\" style=\"width: 40%;\">\n",
    "</div>\n",
    "\n",
    "Note that while NSGA-II provides solutions that are in close proximity to the Pareto front, indicating good convergence, these solutions are not evenly distributed across the Pareto front. **What are the reasons behind the poor distribution of solutions obtained by NSGA-II? Do you have any suggestions for improving NSGA-II performance on this problem? Please share your thoughts and suggestions.**\n"
   ]
  },
  {
   "cell_type": "code",
   "execution_count": 6,
   "id": "ae84bd99",
   "metadata": {
    "ExecuteTime": {
     "end_time": "2023-03-08T05:55:12.089071Z",
     "start_time": "2023-03-08T05:55:12.075782Z"
    }
   },
   "outputs": [],
   "source": [
    "class CrashworthinessDesign():\n",
    "\n",
    "    def __init__(self):\n",
    "        self.name = 'Crashworthiness design of vehicles'\n",
    "        self.n_obj = 3\n",
    "        self.n_var = 5\n",
    "\n",
    "        self.lower = np.full(self.n_var, 1.0)\n",
    "        self.upper = np.full(self.n_var, 3.0)\n",
    "\n",
    "    def evaluate(self, x):\n",
    "        pop_size = len(x)\n",
    "        f = np.zeros((pop_size, self.n_obj))\n",
    "\n",
    "        x1 = x[:, 0]\n",
    "        x2 = x[:, 1]\n",
    "        x3 = x[:, 2]\n",
    "        x4 = x[:, 3]\n",
    "        x5 = x[:, 4]\n",
    "\n",
    "        f[:, 0] = 1640.2823 + (2.3573285 * x1) + (2.3220035 * x2) + (\n",
    "            4.5688768 * x3) + (7.7213633 * x4) + (4.4559504 * x5)\n",
    "        f[:, 1] = 6.5856 + (1.15 * x1) - (1.0427 * x2) + (0.9738 * x3) + (\n",
    "            0.8364 * x4) - (0.3695 * x1 * x4) + (0.0861 * x1 * x5) + (\n",
    "                0.3628 * x2 * x4) - (0.1106 * x1 * x1) - (0.3437 * x3 * x3) + (\n",
    "                    0.1764 * x4 * x4)\n",
    "        f[:, 2] = -0.0551 + (0.0181 * x1) + (0.1024 * x2) + (0.0421 * x3) - (\n",
    "            0.0073 * x1 * x2) + (0.024 * x2 * x3) - (0.0118 * x2 * x4) - (\n",
    "                0.0204 * x3 * x4) - (0.008 * x3 * x5) - (0.0241 * x2 * x2) + (\n",
    "                    0.0109 * x4 * x4)\n",
    "\n",
    "        return f"
   ]
  },
  {
   "cell_type": "code",
   "execution_count": 7,
   "id": "a811f754",
   "metadata": {
    "ExecuteTime": {
     "end_time": "2023-03-08T05:55:12.533421Z",
     "start_time": "2023-03-08T05:55:12.524068Z"
    }
   },
   "outputs": [
    {
     "name": "stdout",
     "output_type": "stream",
     "text": [
      "Problem = Crashworthiness design of vehicles\n",
      "Number of objectives = 3\n",
      "Number of variables = 5\n",
      "Lower bounds = [1. 1. 1. 1. 1.]\n",
      "Upper bounds = [3. 3. 3. 3. 3.]\n"
     ]
    }
   ],
   "source": [
    "# Create an instance of the crashworthiness design problem\n",
    "prob = CrashworthinessDesign()\n",
    "print(f\"Problem = {prob.name}\")\n",
    "print(f\"Number of objectives = {prob.n_obj}\")\n",
    "print(f\"Number of variables = {prob.n_var}\")\n",
    "print(f\"Lower bounds = {prob.lower}\")\n",
    "print(f\"Upper bounds = {prob.upper}\")"
   ]
  },
  {
   "cell_type": "code",
   "execution_count": 8,
   "id": "d310b360",
   "metadata": {
    "ExecuteTime": {
     "end_time": "2023-03-08T05:55:14.734352Z",
     "start_time": "2023-03-08T05:55:14.724689Z"
    }
   },
   "outputs": [
    {
     "name": "stdout",
     "output_type": "stream",
     "text": [
      "x =  [[2.25422765 2.56591786 1.43218949 2.79277976 1.03629398]\n",
      " [1.08607599 1.90339721 1.14015131 2.89243717 1.29014279]\n",
      " [2.99795364 2.47744079 2.00169486 1.22050017 1.6507178 ]\n",
      " [1.44277262 1.33794799 1.1318415  1.60075864 2.34207138]\n",
      " [1.55501507 2.89001119 1.21475104 2.92456522 2.47135307]]\n",
      "f(x) = [[1.68427956e+03 1.08166384e+01 1.03034075e-01]\n",
      " [1.68055381e+03 1.12352475e+01 1.04330876e-01]\n",
      " [1.67902703e+03 8.48278395e+00 1.58288892e-01]\n",
      " [1.67475755e+03 9.28684517e+00 7.92721317e-02]\n",
      " [1.68980250e+03 1.14405235e+01 6.72905786e-02]]\n"
     ]
    }
   ],
   "source": [
    "# Initialize a population with 5 solutions and evaluate them\n",
    "pop_size = 5\n",
    "x = prob.lower + (prob.upper - prob.lower) * np.random.rand(\n",
    "    pop_size, prob.n_var)\n",
    "print(\"x = \", x)\n",
    "\n",
    "f = prob.evaluate(x)\n",
    "print(f\"f(x) = {f}\")"
   ]
  },
  {
   "cell_type": "code",
   "execution_count": null,
   "id": "7e27b700",
   "metadata": {
    "ExecuteTime": {
     "end_time": "2023-03-08T05:34:42.506292Z",
     "start_time": "2023-03-08T05:34:42.502065Z"
    }
   },
   "outputs": [],
   "source": [
    "#-----------BEGIN-----------#\n",
    "# TODO: \n",
    "#   1. Instantiate class NSGA2() and class CrashworthinessDesign()\n",
    "#   2. Use NAGA-II to solve the crashworthiness design problem\n",
    "#   3. Plot the final population `optimum_fx` in the objective space\n",
    "#   4. Share your thoughts on the questions above.\n",
    "#-----------END-----------#"
   ]
  },
  {
   "cell_type": "markdown",
   "id": "1e3ea497",
   "metadata": {},
   "source": [
    "## Part 2. Constrained Multi-Objective Optimization\n",
    "\n",
    "In this part, your task is to implement the parameter-less constraint handling technique in NSGA-II and use the constrained NSGA-II to solve constrained optimization problems."
   ]
  },
  {
   "cell_type": "markdown",
   "id": "d8e361e1",
   "metadata": {},
   "source": [
    "### Introduction to a Constrained Optimization Problem: MW7\n",
    "\n",
    "The MW test suite [3] is a constrained multi-objective optimization test suite proposed by Zhongwei Ma and Yong Wang. It is designed to evaluate the performance of constrained multi-objective optimization algorithms. MW7 is one of the test problems in the MW test suite. We have implemented the MW7() class and provided examples on how to use it below.\n",
    "\n",
    "- Number of objectives: 2\n",
    "- Number of decision variables: 15\n",
    "- Number of constraints: 2\n",
    "\n",
    "$$\n",
    "\\begin{aligned}\n",
    "&\\mathrm{minimize} \\left\\{\n",
    "\\begin{array}{l}\n",
    "f_1(\\mathbf{x})=g_3 x_1 \\\\\n",
    "f_2(\\mathbf{x})=g_3 \\sqrt{1-\\left(f_1 / g_3\\right)^2}\n",
    "\\end{array}\\:,\\right. \\\\\n",
    "&\\mathrm{subject~to} \\enspace c_1(\\mathbf{x})=\\left(1.2+0.4 \\sin (4 l)^{16}\\right)^2-f_1^2-f_2^2 \\geq 0,\\\\\n",
    "& \\qquad \\qquad c_2(\\mathbf{x})=f_1^2 + f_2^2 - \\left(1.15 - 0.2 \\sin (4 l)^8\\right)^2 \\geq 0,\\\\\n",
    "&\\mathrm{where} \\enspace g_3=1+\\sum_{i=m}^n 2\\left(x_i+\\left(x_{i-1}-0.5\\right)^2-1\\right)^2, \\\\\n",
    "& \\qquad \\enspace l=\\arctan \\left(f_2 / f_1\\right),\\\\\n",
    "& \\qquad \\enspace 0 \\leq x_i \\leq 1, \\enspace i=1,\\ldots,n,.\n",
    "\\end{aligned}\n",
    "$$\n",
    "\n",
    "\n",
    "[3] Ma, Z., & Wang, Y. (2019). Evolutionary constrained multiobjective optimization: Test suite construction and performance comparisons. IEEE Transactions on Evolutionary Computation, 23(6), 972-986."
   ]
  },
  {
   "cell_type": "code",
   "execution_count": 9,
   "id": "491b321e",
   "metadata": {
    "ExecuteTime": {
     "end_time": "2023-03-08T05:55:19.063583Z",
     "start_time": "2023-03-08T05:55:19.048243Z"
    }
   },
   "outputs": [],
   "source": [
    "class MW7():\n",
    "\n",
    "    def __init__(self):\n",
    "        self.name = 'MW7'\n",
    "        self.n_obj = 2  # number of objectives\n",
    "        self.n_var = 15  # number of decision variables\n",
    "        self.n_con = 2  # number of constraints\n",
    "\n",
    "        self.lower = np.zeros(self.n_var)\n",
    "        self.upper = np.ones(self.n_var)\n",
    "\n",
    "    def evaluate(self, x):\n",
    "        pop_size = len(x)\n",
    "        f = np.zeros((pop_size, self.n_obj))\n",
    "        c = np.zeros((pop_size, self.n_con))\n",
    "\n",
    "        g3 = 1 + 2.0 * np.sum((x[:, self.n_obj - 1:] +\n",
    "                               (x[:, self.n_obj - 2:-1] - 0.5)**2 - 1.0)**2,\n",
    "                              axis=1)\n",
    "\n",
    "        f[:, 0] = g3 * x[:, 0]\n",
    "        f[:, 1] = g3 * (1 - (f[:, 0] / g3)**2)**0.5\n",
    "\n",
    "        with np.errstate(divide='ignore'):\n",
    "            l = np.arctan(f[:, 1] / f[:, 0])\n",
    "\n",
    "        c[:, 0] = (1.2 + 0.4 * (np.sin(4 * l))**16)**2 - f[:, 0]**2 - f[:, 1]**2\n",
    "        c[:, 1] = f[:, 0]**2 + f[:, 1]**2 - (1.15 - 0.2 * (np.sin(4 * l))**8)**2\n",
    "        c = np.where(c < 0, -c, 0)  # the degree of constraint violation of x at each constraint\n",
    "\n",
    "        return f, c"
   ]
  },
  {
   "cell_type": "code",
   "execution_count": 10,
   "id": "d3b62fce",
   "metadata": {
    "ExecuteTime": {
     "end_time": "2023-03-08T05:55:20.576914Z",
     "start_time": "2023-03-08T05:55:20.565161Z"
    }
   },
   "outputs": [
    {
     "name": "stdout",
     "output_type": "stream",
     "text": [
      "Problem = MW7\n",
      "Number of objectives = 2\n",
      "Number of variables = 15\n",
      "Number of constraints = 2\n",
      "Lower bounds = [0. 0. 0. 0. 0. 0. 0. 0. 0. 0. 0. 0. 0. 0. 0.]\n",
      "Upper bounds = [1. 1. 1. 1. 1. 1. 1. 1. 1. 1. 1. 1. 1. 1. 1.]\n"
     ]
    }
   ],
   "source": [
    "# Create an instance of MW7\n",
    "prob = MW7()\n",
    "print(f\"Problem = {prob.name}\")\n",
    "print(f\"Number of objectives = {prob.n_obj}\")\n",
    "print(f\"Number of variables = {prob.n_var}\")\n",
    "print(f\"Number of constraints = {prob.n_con}\")\n",
    "print(f\"Lower bounds = {prob.lower}\")\n",
    "print(f\"Upper bounds = {prob.upper}\")"
   ]
  },
  {
   "cell_type": "code",
   "execution_count": 11,
   "id": "548d0265",
   "metadata": {
    "ExecuteTime": {
     "end_time": "2023-03-08T05:55:21.200135Z",
     "start_time": "2023-03-08T05:55:21.187567Z"
    }
   },
   "outputs": [
    {
     "name": "stdout",
     "output_type": "stream",
     "text": [
      "x =  [[0.62749977 0.90193178 0.39681662 0.71823608 0.50809339 0.56016769\n",
      "  0.37504301 0.24225266 0.54994773 0.44184898 0.49098565 0.79224267\n",
      "  0.4128141  0.31704931 0.25269343]]\n",
      "f(x) = [[5.11411176 6.34571239]]\n",
      "c(x) = [[64.98220401  0.        ]]\n",
      "CV(x) = [[64.98220401]]\n"
     ]
    }
   ],
   "source": [
    "# Initialize a population with 1 solution and evaluate it\n",
    "pop_size = 1\n",
    "x = prob.lower + (prob.upper - prob.lower) * np.random.rand(\n",
    "    pop_size, prob.n_var)\n",
    "print(\"x = \", x)\n",
    "\n",
    "f, c = prob.evaluate(x)\n",
    "print(f\"f(x) = {f}\")\n",
    "print(f\"c(x) = {c}\")\n",
    "print(f\"CV(x) = {np.sum(c, axis=1, keepdims=True)}\")  # Constraint Violation"
   ]
  },
  {
   "cell_type": "code",
   "execution_count": 12,
   "id": "d1573500",
   "metadata": {
    "ExecuteTime": {
     "end_time": "2023-03-08T05:55:22.497817Z",
     "start_time": "2023-03-08T05:55:22.483207Z"
    }
   },
   "outputs": [
    {
     "name": "stdout",
     "output_type": "stream",
     "text": [
      "x =  [[0.29710031 0.83131697 0.80188023 0.56833187 0.02091894 0.94755255\n",
      "  0.54754364 0.9413384  0.31166576 0.8110999  0.67354589 0.83245286\n",
      "  0.25491369 0.20561747 0.34622786]\n",
      " [0.36585232 0.54529539 0.21506305 0.73701956 0.64984457 0.15773929\n",
      "  0.18182244 0.60349531 0.98882053 0.95934702 0.8476414  0.5079479\n",
      "  0.04156376 0.6506333  0.75501015]]\n",
      "f(x) = [[1.9548606  6.28269753]\n",
      " [2.81094009 7.15060602]]\n",
      "c(x) = [[41.51123191  0.        ]\n",
      " [56.52517697  0.        ]]\n",
      "CV(x) = [[41.51123191]\n",
      " [56.52517697]]\n"
     ]
    }
   ],
   "source": [
    "# Initialize a population with 2 solution and evaluate them\n",
    "pop_size = 2\n",
    "x = prob.lower + (prob.upper - prob.lower) * np.random.rand(\n",
    "    pop_size, prob.n_var)\n",
    "print(\"x = \", x)\n",
    "\n",
    "f, c = prob.evaluate(x)\n",
    "print(f\"f(x) = {f}\")\n",
    "print(f\"c(x) = {c}\")\n",
    "print(f\"CV(x) = {np.sum(c, axis=1, keepdims=True)}\")"
   ]
  },
  {
   "cell_type": "markdown",
   "id": "c1f73efb",
   "metadata": {},
   "source": [
    "### TODO: Implement Constrained NSGA-II and Solve MW7 (30 marks)\n",
    "Your task is to **implement the parameter-less constraint handling technique in NSGA-II and use the constrained NSGA-II to solve the MW7 problems**.\n",
    "\n",
    "You can refer to the example figures below for reference. The left figure (from [3]) displays the true Pareto front (represented by red points), the unconstrained Pareto front (represented by the blue line), and the feasible region (represented by the gray region). The right figure displays the final population obtained by NSGA-II. Your expected solutions should be similar to the gray circles in the right figure.\n",
    "\n",
    "<div style=\"display: flex;\">\n",
    "    <img src=\"https://github.com/linjunhe/CEG5302-Projects/blob/main/PF_MW7.png?raw=true\" alt=\"PF of MW7\" style=\"width: 40%;\">\n",
    "    <img src=\"https://github.com/linjunhe/CEG5302-Projects/blob/main/NSGA2_MW7.png?raw=true\" alt=\"NSGA2 on MW7\" style=\"width: 40%;\">\n",
    "</div>\n",
    "\n",
    "Note that sometimes the solutions obtained by NSGA-II may not cover all segments of the Pareto front (as shown below). **What are the possible reasons? Please share your thoughts in your report.**\n",
    "\n",
    "<div style=\"display: flex;\">\n",
    "    <img src=\"https://github.com/linjunhe/CEG5302-Projects/blob/main/NSGA2_MW7_2.png?raw=true\" alt=\"NSGA2 on MW7 2\" style=\"width: 40%;\">\n",
    "    <img src=\"https://github.com/linjunhe/CEG5302-Projects/blob/main/NSGA2_MW7_3.png?raw=true\" alt=\"NSGA2 on MW7 3\" style=\"width: 40%;\">\n",
    "</div>"
   ]
  },
  {
   "cell_type": "code",
   "execution_count": null,
   "id": "8e800151",
   "metadata": {
    "ExecuteTime": {
     "end_time": "2023-02-28T03:41:05.701635Z",
     "start_time": "2023-02-28T03:41:05.691793Z"
    }
   },
   "outputs": [],
   "source": [
    "class CNSGA2():\n",
    "    #-----------BEGIN-----------#\n",
    "    # TODO: Implement the parameter-less constraint handling technique in NSGA-II\n",
    "    #-----------END-----------#"
   ]
  },
  {
   "cell_type": "code",
   "execution_count": null,
   "id": "54f85566",
   "metadata": {},
   "outputs": [],
   "source": [
    "#-----------BEGIN-----------#\n",
    "# TODO: \n",
    "#   1. Instantiate class CNSGA2() and class MW7()\n",
    "#   2. Use NAGA-II with a contraint handling technique to solve the MW7 problem\n",
    "#   3. Plot the final population `optimum_fx` in the objective space\n",
    "#   4. Answer the question: What are the possible reasons why the solutions \n",
    "#      obtained by NSGA-II fail to cover all segments of the Pareto front?\n",
    "#-----------END-----------#"
   ]
  },
  {
   "cell_type": "markdown",
   "id": "680a89e5",
   "metadata": {},
   "source": [
    "### TODO: Use Constrained NSGA-II to Solve the Assigned Constrained Optimization Problems (30 marks)\n",
    "\n",
    "You will be assigned two constrained problems (refer to the Google Sheet link in the Project 2 announcement) that you are required to solve using the constrained NSGA-II algorithm. One problem will be selected from the MW [3], CF [4], or LIR-CMOP [5] test suites, while the other will be a real-world constrained problem from the RWCMOP suite [6].\n",
    "\n",
    "Your task is to implement the problem class and apply the constrained NSGA-II algorithm to solve the given problems. Additionally, you need to perform parameter analysis to determine the optimal parameter settings for the algorithm, and discuss how the algorithm's parameters affect its performance. Finally, you should present your best results and provide some discussion, especially if the results are not as good as you expected.\n",
    "\n",
    "[3] Ma, Z., & Wang, Y. (2019). Evolutionary constrained multiobjective optimization: Test suite construction and performance comparisons. IEEE Transactions on Evolutionary Computation, 23(6), 972-986.\n",
    "\n",
    "[4] Zhou, Y., Xiang, Y., & He, X. (2020). Constrained multiobjective optimization: Test problem construction and performance evaluations. IEEE Transactions on Evolutionary Computation, 25(1), 172-186.\n",
    "\n",
    "[5] Fan, Z., Li, W., Cai, X., Huang, H., Fang, Y., You, Y., ... & Goodman, E. (2019). An improved epsilon constraint-handling method in MOEA/D for CMOPs with large infeasible regions. Soft Computing, 23, 12491-12510.\n",
    "\n",
    "[6] Kumar, A., Wu, G., Ali, M. Z., Luo, Q., Mallipeddi, R., Suganthan, P. N., & Das, S. (2021). A benchmark-suite of real-world constrained multi-objective optimization problems and some baseline results. Swarm and Evolutionary Computation, 67, 100961."
   ]
  },
  {
   "cell_type": "code",
   "execution_count": null,
   "id": "6d6b4db3",
   "metadata": {},
   "outputs": [],
   "source": [
    "#-----------BEGIN-----------#\n",
    "# TODO:\n",
    "#   1. Implement the problem class for each problem\n",
    "#   2. Instantiate the CNSGA2() class and the problem class for each problem\n",
    "#   3. Use the constrained NSGA-II algorithm to solve each problem with a range of parameter settings\n",
    "#   4. Analyze the performance of the algorithm with different parameter settings, including the \n",
    "#      population size, crossover and mutation probabilities, and maximum number of generations\n",
    "#   5. Plot the final population `optimum_fx` in the objective space for each problem using the best \n",
    "#      parameter settings that you found in Step 4.\n",
    "#-----------END-----------#"
   ]
  }
 ],
 "metadata": {
  "kernelspec": {
   "display_name": "Python 3 (ipykernel)",
   "language": "python",
   "name": "python3"
  },
  "language_info": {
   "codemirror_mode": {
    "name": "ipython",
    "version": 3
   },
   "file_extension": ".py",
   "mimetype": "text/x-python",
   "name": "python",
   "nbconvert_exporter": "python",
   "pygments_lexer": "ipython3",
   "version": "3.9.16"
  },
  "toc": {
   "base_numbering": 1,
   "nav_menu": {},
   "number_sections": true,
   "sideBar": true,
   "skip_h1_title": true,
   "title_cell": "Table of Contents",
   "title_sidebar": "Contents",
   "toc_cell": false,
   "toc_position": {
    "height": "calc(100% - 180px)",
    "left": "10px",
    "top": "150px",
    "width": "309.594px"
   },
   "toc_section_display": true,
   "toc_window_display": true
  }
 },
 "nbformat": 4,
 "nbformat_minor": 5
}
